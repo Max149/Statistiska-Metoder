{
 "cells": [
  {
   "cell_type": "markdown",
   "metadata": {
    "slideshow": {
     "slide_type": "slide"
    },
    "tags": []
   },
   "source": [
    "<h1>Kapitel 1 - Deskriptiv statistik </h1>\n",
    "Vi kommer här gå igenom hur vi med hjälp av NumPy och SciPy kan räkna ut några av de grundläggande statistikmåtten vi gått igenom i kapitel 1.<br>\n",
    "Vi börjar med att importera de paket vi behöver.<br>\n",
    "Vi importerar också ett dataset som vi skall börja bekanta oss med, penguins.csv. Det innehåller mätdata på tre olika pingvinarter, insamlade på tre olika öar i Antarktis. En länk till den här datans distributör hittar du på skaparen Allison Horsts <a href=https://github.com/allisonhorst/palmerpenguins/blob/main/README.md>GitHub-sida</a>."
   ]
  },
  {
   "cell_type": "code",
   "execution_count": 1,
   "metadata": {
    "slideshow": {
     "slide_type": "fragment"
    },
    "tags": []
   },
   "outputs": [],
   "source": [
    "#importera paket\n",
    "import numpy as np\n",
    "import pandas as pd\n",
    "import matplotlib.pyplot as plt\n",
    "import scipy.stats as scs \n",
    "import seaborn as sns \n",
    "    \n",
    "# importera palmer penguins\n",
    "penguins = pd.read_csv('../data/penguins.csv')"
   ]
  },
  {
   "cell_type": "code",
   "execution_count": 2,
   "metadata": {
    "slideshow": {
     "slide_type": "fragment"
    },
    "tags": []
   },
   "outputs": [
    {
     "data": {
      "text/html": [
       "<div>\n",
       "<style scoped>\n",
       "    .dataframe tbody tr th:only-of-type {\n",
       "        vertical-align: middle;\n",
       "    }\n",
       "\n",
       "    .dataframe tbody tr th {\n",
       "        vertical-align: top;\n",
       "    }\n",
       "\n",
       "    .dataframe thead th {\n",
       "        text-align: right;\n",
       "    }\n",
       "</style>\n",
       "<table border=\"1\" class=\"dataframe\">\n",
       "  <thead>\n",
       "    <tr style=\"text-align: right;\">\n",
       "      <th></th>\n",
       "      <th>species</th>\n",
       "      <th>island</th>\n",
       "      <th>bill_length_mm</th>\n",
       "      <th>bill_depth_mm</th>\n",
       "      <th>flipper_length_mm</th>\n",
       "      <th>body_mass_g</th>\n",
       "      <th>sex</th>\n",
       "      <th>year</th>\n",
       "    </tr>\n",
       "  </thead>\n",
       "  <tbody>\n",
       "    <tr>\n",
       "      <th>0</th>\n",
       "      <td>Adelie</td>\n",
       "      <td>Torgersen</td>\n",
       "      <td>39.1</td>\n",
       "      <td>18.7</td>\n",
       "      <td>181.0</td>\n",
       "      <td>3750.0</td>\n",
       "      <td>male</td>\n",
       "      <td>2007</td>\n",
       "    </tr>\n",
       "    <tr>\n",
       "      <th>1</th>\n",
       "      <td>Adelie</td>\n",
       "      <td>Torgersen</td>\n",
       "      <td>39.5</td>\n",
       "      <td>17.4</td>\n",
       "      <td>186.0</td>\n",
       "      <td>3800.0</td>\n",
       "      <td>female</td>\n",
       "      <td>2007</td>\n",
       "    </tr>\n",
       "    <tr>\n",
       "      <th>2</th>\n",
       "      <td>Adelie</td>\n",
       "      <td>Torgersen</td>\n",
       "      <td>40.3</td>\n",
       "      <td>18.0</td>\n",
       "      <td>195.0</td>\n",
       "      <td>3250.0</td>\n",
       "      <td>female</td>\n",
       "      <td>2007</td>\n",
       "    </tr>\n",
       "    <tr>\n",
       "      <th>4</th>\n",
       "      <td>Adelie</td>\n",
       "      <td>Torgersen</td>\n",
       "      <td>36.7</td>\n",
       "      <td>19.3</td>\n",
       "      <td>193.0</td>\n",
       "      <td>3450.0</td>\n",
       "      <td>female</td>\n",
       "      <td>2007</td>\n",
       "    </tr>\n",
       "    <tr>\n",
       "      <th>5</th>\n",
       "      <td>Adelie</td>\n",
       "      <td>Torgersen</td>\n",
       "      <td>39.3</td>\n",
       "      <td>20.6</td>\n",
       "      <td>190.0</td>\n",
       "      <td>3650.0</td>\n",
       "      <td>male</td>\n",
       "      <td>2007</td>\n",
       "    </tr>\n",
       "  </tbody>\n",
       "</table>\n",
       "</div>"
      ],
      "text/plain": [
       "  species     island  bill_length_mm  bill_depth_mm  flipper_length_mm  \\\n",
       "0  Adelie  Torgersen            39.1           18.7              181.0   \n",
       "1  Adelie  Torgersen            39.5           17.4              186.0   \n",
       "2  Adelie  Torgersen            40.3           18.0              195.0   \n",
       "4  Adelie  Torgersen            36.7           19.3              193.0   \n",
       "5  Adelie  Torgersen            39.3           20.6              190.0   \n",
       "\n",
       "   body_mass_g     sex  year  \n",
       "0       3750.0    male  2007  \n",
       "1       3800.0  female  2007  \n",
       "2       3250.0  female  2007  \n",
       "4       3450.0  female  2007  \n",
       "5       3650.0    male  2007  "
      ]
     },
     "execution_count": 2,
     "metadata": {},
     "output_type": "execute_result"
    }
   ],
   "source": [
    "penguins.head()"
   ]
  },
  {
   "cell_type": "markdown",
   "metadata": {},
   "source": [
    "<h2>Lägesmått eller mått på centraltendens</h2>"
   ]
  },
  {
   "cell_type": "markdown",
   "metadata": {},
   "source": [
    "<h3>Typvärde</h3>"
   ]
  },
  {
   "cell_type": "markdown",
   "metadata": {},
   "source": [
    "<strong>Typvärdet</strong> för en datamängd är det vanligast förekommande värdet i datamängden."
   ]
  },
  {
   "cell_type": "markdown",
   "metadata": {},
   "source": [
    "<strong>Exempel:</strong> Vad är typvärdet för datamängden {Röd, Röd, Gul, Grön}?"
   ]
  },
  {
   "cell_type": "markdown",
   "metadata": {},
   "source": [
    "Typvärdet kan beräknas enkelt direkt i Pandas genom funktionen <code>mode()</code>"
   ]
  },
  {
   "cell_type": "code",
   "execution_count": 3,
   "metadata": {},
   "outputs": [
    {
     "data": {
      "text/plain": [
       "0    Biscoe\n",
       "Name: island, dtype: object"
      ]
     },
     "execution_count": 3,
     "metadata": {},
     "output_type": "execute_result"
    }
   ],
   "source": [
    "penguins['island'].mode() # Beräkna typvärdet med Pandas"
   ]
  },
  {
   "cell_type": "markdown",
   "metadata": {},
   "source": [
    "Alternativt kan vi också använda oss av <code>value_counts()</code> för att få frekvensen av alla förekommande värden i vår datamängd. Default här är att sortera på storlek, vilket per automatik då också ger oss typvärdet."
   ]
  },
  {
   "cell_type": "code",
   "execution_count": 4,
   "metadata": {},
   "outputs": [
    {
     "data": {
      "text/plain": [
       "Biscoe       163\n",
       "Dream        123\n",
       "Torgersen     47\n",
       "Name: island, dtype: int64"
      ]
     },
     "execution_count": 4,
     "metadata": {},
     "output_type": "execute_result"
    }
   ],
   "source": [
    "penguins['island'].value_counts() # Beräkna typvärdet med NumPy"
   ]
  },
  {
   "cell_type": "markdown",
   "metadata": {},
   "source": [
    "<h3>Median</h3>"
   ]
  },
  {
   "cell_type": "markdown",
   "metadata": {},
   "source": [
    "<strong>Medianen</strong> för en datamängd är det värde som hamnar \"i mitten\" om värdena ordnas efter storlek."
   ]
  },
  {
   "cell_type": "markdown",
   "metadata": {},
   "source": [
    "<strong>Exempel:</strong> Vad är medianen för datamängden ${8, 3, 6, 7, 9}$?<br>\n",
    "Lösning: I storleksordning: $3,6,7,8,9$ så medianen är $7$."
   ]
  },
  {
   "cell_type": "markdown",
   "metadata": {},
   "source": [
    "<strong>Exempel:</strong> Vad är medianen för datamängden ${8, 3, 7, 9}$?<br>\n",
    "Lösning: I storleksordning: $3,7,8,9$ så medianen är medelvärdet av $7$ och $8$, alltså $7.5$"
   ]
  },
  {
   "cell_type": "markdown",
   "metadata": {},
   "source": [
    "Medianen kan beräknas direkt i Pandas med funktionen <code>median()</code>. Låt oss beräkna medianen av näbblängden (bill_length_mm)."
   ]
  },
  {
   "cell_type": "code",
   "execution_count": 5,
   "metadata": {},
   "outputs": [
    {
     "data": {
      "text/plain": [
       "44.5"
      ]
     },
     "execution_count": 5,
     "metadata": {},
     "output_type": "execute_result"
    }
   ],
   "source": [
    "penguins['bill_length_mm'].median() # Beräkna medianen med Pandas"
   ]
  },
  {
   "cell_type": "markdown",
   "metadata": {},
   "source": [
    "Vi kan också göra det med NumPy:s funktion <code>median()</code>."
   ]
  },
  {
   "cell_type": "code",
   "execution_count": 6,
   "metadata": {},
   "outputs": [
    {
     "data": {
      "text/plain": [
       "44.5"
      ]
     },
     "execution_count": 6,
     "metadata": {},
     "output_type": "execute_result"
    }
   ],
   "source": [
    "np.median(penguins['bill_length_mm']) # Beräkna medianen med NumPy"
   ]
  },
  {
   "cell_type": "markdown",
   "metadata": {},
   "source": [
    "<h3>Medelvärde</h3>"
   ]
  },
  {
   "cell_type": "markdown",
   "metadata": {},
   "source": [
    "<strong>Medelvärdet</strong> för en datamängd är \"snittet\", alltså summan av alla värden dividerat med hur många värden som finns i datamängden.\n",
    "\n",
    "   ${\\bar x}=\\frac{1}{n}\\sum_{i=1}^{n}x_i=\\frac{x_1+\\dots+x_n}{n}$\n"
   ]
  },
  {
   "cell_type": "markdown",
   "metadata": {},
   "source": [
    "<strong>Exempel:</strong> Vad är medelvärdet för datamängden ${8, 3, 6, 7, 9}$?<br>\n",
    "Lösning: Insättning av data i formeln för medelvärde ger:<h4>$\\frac{8+3+6+7+9}{5}=\\frac{33}{5}=6.6$</h4>"
   ]
  },
  {
   "cell_type": "markdown",
   "metadata": {},
   "source": [
    "Precis som med tidigare mått har Pandas en funktion för medelvärde, <code>mean()</code>"
   ]
  },
  {
   "cell_type": "code",
   "execution_count": 7,
   "metadata": {},
   "outputs": [
    {
     "data": {
      "text/plain": [
       "43.9927927927928"
      ]
     },
     "execution_count": 7,
     "metadata": {},
     "output_type": "execute_result"
    }
   ],
   "source": [
    "penguins['bill_length_mm'].mean() # Beräkna medelvärdet med Pandas"
   ]
  },
  {
   "cell_type": "markdown",
   "metadata": {},
   "source": [
    "Vi kan också göra det med NumPy:s funktion <code>mean()</code>"
   ]
  },
  {
   "cell_type": "code",
   "execution_count": 8,
   "metadata": {},
   "outputs": [
    {
     "data": {
      "text/plain": [
       "43.9927927927928"
      ]
     },
     "execution_count": 8,
     "metadata": {},
     "output_type": "execute_result"
    }
   ],
   "source": [
    "np.mean(penguins['bill_length_mm']) # Beräkna medelvärdet med NumPy"
   ]
  },
  {
   "cell_type": "markdown",
   "metadata": {},
   "source": [
    "<strong>Reflektion:</strong> Kan man räkna typvärden, medianer och medelvärden för alla datatyper?"
   ]
  },
  {
   "cell_type": "markdown",
   "metadata": {},
   "source": [
    "<h2>Spridningsmått</h2>"
   ]
  },
  {
   "cell_type": "markdown",
   "metadata": {},
   "source": [
    "<h3>Varians</h3>"
   ]
  },
  {
   "cell_type": "markdown",
   "metadata": {},
   "source": [
    "<strong>Variansen</strong> för ett stickprov ges av:\n",
    "    \n",
    "$\\,\\,\\,\\,\\,\\,\\,\\,\\,s^2=\\frac{1}{n-1}\\sum_{i=1}^{n}\\left(x_i-{\\bar x}\\right)^2=\\frac{1}{n-1}\\left(\\sum_{i=1}^{n}x_i^2-n\\left({\\bar x}\\right)^2\\right)$\n",
    "    "
   ]
  },
  {
   "cell_type": "markdown",
   "metadata": {},
   "source": [
    "<strong>Exempel:</strong> Vad är variansen för stickprovet $8, 3, 7, 9$?<br>\n",
    "Lösning: Medelvärdet är $6.75$ så vi får att variansen är:</h3>\n",
    "    <h4>\n",
    "    $\\frac{1}{4-1}\\left(8^2+3^2+7^2+9^2-4\\cdot 6.75^2\\right)\\approx 6.9$\n",
    "    </h4>"
   ]
  },
  {
   "cell_type": "markdown",
   "metadata": {},
   "source": [
    "Varians kan beräknas i Pandas med funktionen <code>var()</code>. Vad är stickprovsvariansen av näbblängd (bill_length_mm) i datamängden 'penguins'?"
   ]
  },
  {
   "cell_type": "code",
   "execution_count": 9,
   "metadata": {},
   "outputs": [
    {
     "data": {
      "text/plain": [
       "29.90633344187561"
      ]
     },
     "execution_count": 9,
     "metadata": {},
     "output_type": "execute_result"
    }
   ],
   "source": [
    "penguins['bill_length_mm'].var() # Beräkna variansen med Pandas"
   ]
  },
  {
   "cell_type": "markdown",
   "metadata": {},
   "source": [
    "<strong>Reflektion:</strong> Vilken enhet får variansen i det här exemplet?"
   ]
  },
  {
   "cell_type": "markdown",
   "metadata": {},
   "source": [
    "Även NumPy har en funktion <code>var()</code> för varians. Här gäller dock att vara försiktig. Varians kan beräknas på olika sätt beroende på var datan kommer från. <br><br>\n",
    "Vi använder oss av $n-1$ frihetsgrader när vi räknar på stickprov (samples), och $n$ frihetsgrader när vi räknar på populationer. I praktiken är det nästan aldrig möjligt att räkna på populationer, därför kommer formeln $n-1$ vara den överlägset vanligaste vi stöter på. <br><br>\n",
    "I NumPy används som standard att antalet <i>frihetsgrader</i> är 0. I Pandas är antalet frihetsgrader per default 1. För att få samma värde på variansen i NumPy måste vi alltså lägga till ett argument: <code>ddof=1</code>. ddof i det här sammanhanget står för 'delta degrees of freedom'."
   ]
  },
  {
   "cell_type": "code",
   "execution_count": 10,
   "metadata": {},
   "outputs": [
    {
     "data": {
      "text/plain": [
       "29.90633344187561"
      ]
     },
     "execution_count": 10,
     "metadata": {},
     "output_type": "execute_result"
    }
   ],
   "source": [
    "np.var(penguins['bill_length_mm'],ddof=1) # Beräkna variansen med NumPy"
   ]
  },
  {
   "cell_type": "markdown",
   "metadata": {},
   "source": [
    "<h3>Standardavvikelse</h3>"
   ]
  },
  {
   "cell_type": "markdown",
   "metadata": {},
   "source": [
    "<strong>Standardavvikelsen</strong> är roten ur variansen:\n",
    "\n",
    "$s=\\sqrt{s^2}$\n",
    "    "
   ]
  },
  {
   "cell_type": "markdown",
   "metadata": {},
   "source": [
    "Pandas har även här en inbyggd funktion för standardavvikelse <code>std()</code>. Låt oss fortsätta räkna på näbblängden."
   ]
  },
  {
   "cell_type": "code",
   "execution_count": 11,
   "metadata": {},
   "outputs": [
    {
     "data": {
      "text/plain": [
       "5.46866834264756"
      ]
     },
     "execution_count": 11,
     "metadata": {},
     "output_type": "execute_result"
    }
   ],
   "source": [
    "penguins['bill_length_mm'].std() # Beräkna standardavvikelse med Pandas"
   ]
  },
  {
   "cell_type": "markdown",
   "metadata": {},
   "source": [
    "Här kan vi dubbelkolla så att det stämmer överens med vår tidigare uträkning av variansen."
   ]
  },
  {
   "cell_type": "code",
   "execution_count": 12,
   "metadata": {},
   "outputs": [
    {
     "data": {
      "text/plain": [
       "5.468089245796926"
      ]
     },
     "execution_count": 12,
     "metadata": {},
     "output_type": "execute_result"
    }
   ],
   "source": [
    "np.sqrt(29.9)"
   ]
  },
  {
   "cell_type": "markdown",
   "metadata": {},
   "source": [
    "I NumPy gäller samma sak som för variansen. Det finns en funktion <code>std()</code>, men vi måste lägga med argumentet <code>ddof=1</code> för att erhålla samma resultat som i Pandas."
   ]
  },
  {
   "cell_type": "code",
   "execution_count": 13,
   "metadata": {},
   "outputs": [
    {
     "data": {
      "text/plain": [
       "5.46866834264756"
      ]
     },
     "execution_count": 13,
     "metadata": {},
     "output_type": "execute_result"
    }
   ],
   "source": [
    "np.std(penguins['bill_length_mm'],ddof=1) # Beräkna standardavvikelse med NumPy"
   ]
  },
  {
   "cell_type": "markdown",
   "metadata": {},
   "source": [
    "<h3>All together now!</h3>"
   ]
  },
  {
   "cell_type": "markdown",
   "metadata": {},
   "source": [
    "Pandas har en praktisk funktion som heter <code>describe()</code> där vi snabbt får ut flera av de mått vi pratat om."
   ]
  },
  {
   "cell_type": "code",
   "execution_count": 16,
   "metadata": {},
   "outputs": [
    {
     "data": {
      "text/plain": [
       "count    333.000000\n",
       "mean      43.992793\n",
       "std        5.468668\n",
       "min       32.100000\n",
       "25%       39.500000\n",
       "50%       44.500000\n",
       "75%       48.600000\n",
       "max       59.600000\n",
       "Name: bill_length_mm, dtype: float64"
      ]
     },
     "execution_count": 16,
     "metadata": {},
     "output_type": "execute_result"
    }
   ],
   "source": [
    "penguins['bill_length_mm'].describe() # Beräkna deskriptiva mått i Pandas."
   ]
  },
  {
   "cell_type": "markdown",
   "metadata": {},
   "source": [
    "<strong>Reflektion:</strong> Var hittar vi medianen?"
   ]
  },
  {
   "cell_type": "markdown",
   "metadata": {},
   "source": [
    "<h3>Medelabsolutavvikelse - MAD</h3>"
   ]
  },
  {
   "cell_type": "markdown",
   "metadata": {},
   "source": [
    "<strong>Medelabsolutavvikelsen</strong> för en datamängd ges av:\n",
    "    <h3>\n",
    "    $\\,\\,\\,\\,\\,\\,\\,\\,\\,MAD=\\frac{1}{n}\\sum_{i=1}^{n}\\lvert x_i - {\\bar x}\\rvert$\n",
    "    </h3>"
   ]
  },
  {
   "cell_type": "markdown",
   "metadata": {},
   "source": [
    "<strong>Exempel:</strong> Vad är MAD för datamängden ${8, 3, 7, 9}$?"
   ]
  },
  {
   "cell_type": "markdown",
   "metadata": {},
   "source": [
    "Lösning: Medelvärdet är 6.75 så vi får att MAD är:\n",
    "    <h3>\n",
    "    $\\frac{1}{4}\\left(\\lvert 8 - 6.75 \\rvert + \\lvert 3 - 6.75 \\rvert + \\lvert 7 - 6.75 \\rvert + \\lvert 9 - 6.75 \\rvert\\right)\n",
    "    =\\frac{1.25+3.75+0.25+2.25}{4}\\approx 1.9$\n",
    "    </h3>"
   ]
  },
  {
   "cell_type": "markdown",
   "metadata": {},
   "source": [
    "MAD kan beräknas med Pandas genom funktionen <code>mad()</code>"
   ]
  },
  {
   "cell_type": "code",
   "execution_count": 14,
   "metadata": {},
   "outputs": [
    {
     "name": "stderr",
     "output_type": "stream",
     "text": [
      "C:\\Users\\davber\\AppData\\Local\\Temp\\ipykernel_26204\\1831857476.py:1: FutureWarning: The 'mad' method is deprecated and will be removed in a future version. To compute the same result, you may do `(df - df.mean()).abs().mean()`.\n",
      "  penguins['bill_length_mm'].mad() # Beräkna MAD med Pandas\n"
     ]
    },
    {
     "data": {
      "text/plain": [
       "4.720314909504098"
      ]
     },
     "execution_count": 14,
     "metadata": {},
     "output_type": "execute_result"
    }
   ],
   "source": [
    "penguins['bill_length_mm'].mad() # Beräkna MAD med Pandas"
   ]
  },
  {
   "cell_type": "markdown",
   "metadata": {},
   "source": [
    "Hoppsan! Här får vi ett meddelande som varnar oss för att funktionen <code>mad()</code> kommer försvinna ur Pandas, men med ett exempel på hur den kan räknas ut ändå."
   ]
  },
  {
   "cell_type": "code",
   "execution_count": 15,
   "metadata": {},
   "outputs": [
    {
     "data": {
      "text/plain": [
       "4.720314909504098"
      ]
     },
     "execution_count": 15,
     "metadata": {},
     "output_type": "execute_result"
    }
   ],
   "source": [
    "(penguins['bill_length_mm'] - penguins['bill_length_mm'].mean()).abs().mean() # 'Hårdkodad' version för MAD."
   ]
  },
  {
   "cell_type": "markdown",
   "metadata": {},
   "source": [
    "<h3>Snedhet</h3>\n",
    "<h5>Eng: Skewness</h5>\n",
    "Snedhet är ett mått på hur assymetrisk datamängden är. Skevheten beräknas enligt:\n",
    "    <h2>\n",
    "    $\\,\\,\\,\\,\\,\\,\\,\\,\\,\\sum_{i=1}^{n}\\left(\\frac{x_i-{\\bar x}}{s}\\right)^3$\n",
    "    </h2><br>\n",
    "Skevheten blir negativ om fördelningen är skev åt vänster och positivt om fördelningen är skev åt höger"
   ]
  },
  {
   "cell_type": "markdown",
   "metadata": {},
   "source": [
    "Låt oss göra ett histogram över kroppsvikten för alla pingviner i vårt dataset. "
   ]
  },
  {
   "cell_type": "code",
   "execution_count": 2,
   "metadata": {
    "tags": [
     "hide_code"
    ]
   },
   "outputs": [
    {
     "data": {
      "image/png": "[encoded data removed]",
      "text/plain": [
       "<Figure size 500x300 with 1 Axes>"
      ]
     },
     "metadata": {},
     "output_type": "display_data"
    }
   ],
   "source": [
    "### Grundplot\n",
    "fig, ax = plt.subplots(figsize=(5,3))\n",
    "sns.histplot(penguins, x='body_mass_g', bins=8); # Plotta 'body_mass_g' som histogram med 8 bins\n",
    "\n",
    "### Medelvärde och median\n",
    "mass_mean = penguins['body_mass_g'].mean() # Beräkna medelvärde för 'body_mass_g'\n",
    "mass_median = penguins['body_mass_g'].median() # Beräkna medianvärde för 'body_mass_g'\n",
    "plt.plot([mass_mean, mass_mean], [0, 80], color='green', linestyle='--', linewidth=1, label='Medelvärde') # Plotta medelvärde för 'body_mass_g' med streckad grön linje\n",
    "plt.plot([mass_median, mass_median], [0, 80], color='red', linestyle='--', linewidth=1, label='Median') # Plotta medianvärde för 'body_mass_g' med streckad röd linje\n",
    "\n",
    "### Legend\n",
    "leg = plt.legend(loc='upper right') # Rita legend för medelvärde och median i övre högra hörnet\n",
    "plt.show()"
   ]
  },
  {
   "cell_type": "markdown",
   "metadata": {},
   "source": [
    "Ett grafisk sätt att undersöka skevheten är att jämföra medelvärdet med medianen. Om medelvärdet är större än medianen så är fördelningen skev åt höger. Vice versa, om medelvärdet är mindre än medianen är fördelningen skev åt vänster. För vår data över kroppsvikter ovan är medelvärdet större än medianen. Fördelningen är alltså skev åt höger, och borde alltså ha ett positivt värde på skevheten."
   ]
  },
  {
   "cell_type": "markdown",
   "metadata": {},
   "source": [
    "Vi räknar ut skevheten för en datamängd i Pandas med hjälp av <code>skew()</code>"
   ]
  },
  {
   "cell_type": "code",
   "execution_count": 18,
   "metadata": {},
   "outputs": [
    {
     "data": {
      "text/plain": [
       "0.4722460732964027"
      ]
     },
     "execution_count": 18,
     "metadata": {},
     "output_type": "execute_result"
    }
   ],
   "source": [
    "penguins['body_mass_g'].skew() # Beräkna skevhet med Pandas"
   ]
  },
  {
   "cell_type": "markdown",
   "metadata": {},
   "source": [
    "Samma beräkning går att göra i SciPy med <code>skew()</code>"
   ]
  },
  {
   "cell_type": "code",
   "execution_count": 19,
   "metadata": {},
   "outputs": [
    {
     "data": {
      "text/plain": [
       "0.4701161714183821"
      ]
     },
     "execution_count": 19,
     "metadata": {},
     "output_type": "execute_result"
    }
   ],
   "source": [
    "scs.skew(penguins['body_mass_g']) # Beräkna skevhet med SciPy"
   ]
  },
  {
   "cell_type": "markdown",
   "metadata": {},
   "source": [
    "Här är uppenbarligen något som gör beräkningen annorlunda i SciPy jmf med Pandas. Det handlar återigen om att SciPy, liket NumPu, räknar som om det vore populationsdata. Vi kan korrigera detta, vilket görs per default i Pandas, men inte i SciPy. Därför lägger vi till ett argument <code>bias=False</code>, för att erhålla samma värde som i Pandasberäkningen."
   ]
  },
  {
   "cell_type": "code",
   "execution_count": 20,
   "metadata": {},
   "outputs": [
    {
     "data": {
      "text/plain": [
       "0.47224607329640284"
      ]
     },
     "execution_count": 20,
     "metadata": {},
     "output_type": "execute_result"
    }
   ],
   "source": [
    "scs.skew(penguins['body_mass_g'], bias=False) # Beräkna bias-korrigerad skevhet med SciPy"
   ]
  }
 ],
 "metadata": {
  "kernelspec": {
   "display_name": "Python 3 (ipykernel)",
   "language": "python",
   "name": "python3"
  },
  "language_info": {
   "codemirror_mode": {
    "name": "ipython",
    "version": 3
   },
   "file_extension": ".py",
   "mimetype": "text/x-python",
   "name": "python",
   "nbconvert_exporter": "python",
   "pygments_lexer": "ipython3",
   "version": "3.11.7"
  }
 },
 "nbformat": 4,
 "nbformat_minor": 4
}
